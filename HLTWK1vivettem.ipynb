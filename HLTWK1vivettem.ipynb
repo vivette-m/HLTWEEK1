{
 "metadata": {
  "language_info": {
   "codemirror_mode": {
    "name": "ipython",
    "version": 3
   },
   "file_extension": ".py",
   "mimetype": "text/x-python",
   "name": "python",
   "nbconvert_exporter": "python",
   "pygments_lexer": "ipython3",
   "version": "3.9.6"
  },
  "orig_nbformat": 4,
  "kernelspec": {
   "name": "python3",
   "display_name": "Python 3.9.6 64-bit"
  },
  "interpreter": {
   "hash": "5208ece860cd8f659edbc8d402425989a1be8cb2cbdc0b946175eff23c10f70c"
  }
 },
 "nbformat": 4,
 "nbformat_minor": 2,
 "cells": [
  {
   "cell_type": "code",
   "execution_count": 9,
   "metadata": {},
   "outputs": [
    {
     "output_type": "stream",
     "name": "stdout",
     "text": [
      "random.randit\n"
     ]
    }
   ],
   "source": [
    "import random\n",
    "number=(0-10)\n",
    "value=random number(1-10)\n",
    "print(\"random.randit\")\n",
    "Name=what is your Name\n",
    "input(\"john doe\")\n",
    "print(\"hello\",john doe)\n",
    "random,randit\n",
    "print(\"1-10\")=pick a number\n",
    "input(7)\n",
    "print(wrong better luck next time)\n"
   ]
  },
  {
   "cell_type": "code",
   "execution_count": 8,
   "metadata": {},
   "outputs": [
    {
     "output_type": "stream",
     "name": "stdout",
     "text": [
      "what is your favourite number0-100\n"
     ]
    }
   ],
   "source": [
    "favourate_number =\"0-100\"\n",
    "print(\"what is your favourite number\"+ \"0-100\")\n",
    "input(\"favourite number is 12\")\n",
    "joke1(that is a funny number to choose)\n",
    "joke2(\"you had up to 100 and you picked 12\")\n",
    "joke3(\"i am tempted to switch your number and make it 21\")\n",
    "\n"
   ]
  },
  {
   "cell_type": "code",
   "execution_count": null,
   "metadata": {},
   "outputs": [],
   "source": [
    "favourite-meal=(starter,main,dessert and drink)\n",
    "print(what are your favourite foods)\n",
    "starter=input(\"enter your fovourite starter\")\n",
    "result=soup\n",
    "main=input(\"enter you favourite main\")\n",
    "result=stake\n",
    "dessert=input(\"enter you favouritedessert\")\n",
    "result=ice-cream\n",
    "drink=input(\"entre your favourite drink\")\n",
    "result=gin\n",
    "output(\"your favourite meal is stake,soup,ice-cream and a glass of gin\")"
   ]
  },
  {
   "cell_type": "code",
   "execution_count": null,
   "metadata": {},
   "outputs": [],
   "source": [
    "motorbike=£2000\n",
    "value= £2000\n",
    "print(value> 10% every year)\n",
    "value 0:<£2,000\n",
    "value 1:>£1,800\n",
    "value 2:>£1,620\n",
    "value 3:>£1,458\n",
    "value 4:>£1,312.2\n",
    "value 5:>£1,181\n",
    "value 6:>£1,062.9\n",
    "value 7:>£956.61\n",
    "print(\"7 years £2000 motorbike value  > £956.61\")\n",
    "\n",
    "\n",
    "\n"
   ]
  },
  {
   "cell_type": "code",
   "execution_count": null,
   "metadata": {},
   "outputs": [],
   "source": [
    "number1=input(\"enter first number\")\n",
    "number2=input(\"enter second number\")\n",
    "print(\"enter which operation you want to perform?\")\n",
    "input(\"enter any of the specific operation+,-,*,/,:\")\n",
    "print(\"enter a to +\")\n",
    "print (\"enter b to -\")\n",
    "entre  first number:100\n",
    "enter second  number:10\n",
    "print(enter which operation you like to perform \n",
    "output 1 :Addition\n",
    "100+10:110\n",
    "output 2 :subtraction\n",
    "enter first number:30\n",
    "enter second number:7\n",
    "30-7:23\n"
   ]
  }
 ]
}